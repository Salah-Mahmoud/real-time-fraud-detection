{
 "cells": [
  {
   "cell_type": "markdown",
   "id": "f6d6be5c-e35c-4575-9c8d-3033c596ecaf",
   "metadata": {},
   "source": [
    "# Read & Proprseccing"
   ]
  },
  {
   "cell_type": "code",
   "execution_count": 1,
   "id": "df4f76a5-195d-4b33-88be-b7a1f88ff854",
   "metadata": {},
   "outputs": [],
   "source": [
    "from pyspark.sql import SparkSession\n",
    "from pyspark.sql.functions import col\n",
    "from pyspark.ml import Pipeline\n",
    "from pyspark.ml.feature import VectorAssembler\n",
    "from pyspark.ml.classification import RandomForestClassifier\n",
    "from pyspark.ml.evaluation import MulticlassClassificationEvaluator\n",
    "\n",
    "\n",
    "spark = SparkSession \\\n",
    "        .builder \\\n",
    "        .appName(\"FraudModel\") \\\n",
    "        .getOrCreate()"
   ]
  },
  {
   "cell_type": "code",
   "execution_count": 42,
   "id": "2eea6d64-9690-435f-970e-65831f1008a7",
   "metadata": {},
   "outputs": [],
   "source": [
    "train_df = spark.read.csv('/home/jovyan/data/fraudTrain.csv', sep=',', encoding='UTF-8', header=True, inferSchema=True)\n",
    "\n",
    "test_df = spark.read.csv('/home/jovyan/data/fraudTest.csv', sep=',', encoding='UTF-8', header=True, inferSchema=True)"
   ]
  },
  {
   "cell_type": "code",
   "execution_count": 43,
   "id": "87152b99-c7c4-4af3-9623-26117f594aad",
   "metadata": {},
   "outputs": [
    {
     "name": "stdout",
     "output_type": "stream",
     "text": [
      "root\n",
      " |-- _c0: string (nullable = true)\n",
      " |-- trans_date_trans_time: timestamp (nullable = true)\n",
      " |-- cc_num: double (nullable = true)\n",
      " |-- merchant: string (nullable = true)\n",
      " |-- category: string (nullable = true)\n",
      " |-- amt: double (nullable = true)\n",
      " |-- first: string (nullable = true)\n",
      " |-- last: string (nullable = true)\n",
      " |-- gender: string (nullable = true)\n",
      " |-- street: string (nullable = true)\n",
      " |-- city: string (nullable = true)\n",
      " |-- state: string (nullable = true)\n",
      " |-- zip: integer (nullable = true)\n",
      " |-- lat: double (nullable = true)\n",
      " |-- long: double (nullable = true)\n",
      " |-- city_pop: integer (nullable = true)\n",
      " |-- job: string (nullable = true)\n",
      " |-- dob: date (nullable = true)\n",
      " |-- trans_num: string (nullable = true)\n",
      " |-- unix_time: integer (nullable = true)\n",
      " |-- merch_lat: double (nullable = true)\n",
      " |-- merch_long: double (nullable = true)\n",
      " |-- is_fraud: integer (nullable = true)\n",
      "\n"
     ]
    }
   ],
   "source": [
    "train_df.printSchema()"
   ]
  },
  {
   "cell_type": "code",
   "execution_count": 44,
   "id": "16e090f9-1dca-44a9-9e13-7fc800ead7b3",
   "metadata": {},
   "outputs": [],
   "source": [
    "columns_to_drop = ['_c0', 'merchant', 'gender', 'category', 'cc_num', 'first', 'last', \n",
    "                   'street', 'city', 'state', 'zip', 'dob', 'trans_num', 'trans_date_trans_time','job']\n",
    "\n",
    "train_df = train_df.drop(*columns_to_drop).na.drop()\n",
    "test_df = test_df.drop(*columns_to_drop).na.drop()"
   ]
  },
  {
   "cell_type": "code",
   "execution_count": 45,
   "id": "242a6f7e-6425-48e2-ac12-6ad1a64251e4",
   "metadata": {},
   "outputs": [
    {
     "name": "stdout",
     "output_type": "stream",
     "text": [
      "root\n",
      " |-- amt: double (nullable = true)\n",
      " |-- lat: double (nullable = true)\n",
      " |-- long: double (nullable = true)\n",
      " |-- city_pop: integer (nullable = true)\n",
      " |-- unix_time: integer (nullable = true)\n",
      " |-- merch_lat: double (nullable = true)\n",
      " |-- merch_long: double (nullable = true)\n",
      " |-- is_fraud: integer (nullable = true)\n",
      "\n"
     ]
    }
   ],
   "source": [
    "train_df.printSchema()"
   ]
  },
  {
   "cell_type": "code",
   "execution_count": 32,
   "id": "416e14ea-9ca6-402c-bf91-a95323efcf61",
   "metadata": {},
   "outputs": [
    {
     "name": "stdout",
     "output_type": "stream",
     "text": [
      "+--------+-------+\n",
      "|is_fraud|  count|\n",
      "+--------+-------+\n",
      "|       1|   6006|\n",
      "|       0|1042569|\n",
      "+--------+-------+\n",
      "\n"
     ]
    }
   ],
   "source": [
    "train_df.groupBy(\"is_fraud\").count().show()"
   ]
  },
  {
   "cell_type": "code",
   "execution_count": 41,
   "id": "be0ea444-331c-4eb2-8a4f-eba02f62f0ca",
   "metadata": {},
   "outputs": [
    {
     "name": "stdout",
     "output_type": "stream",
     "text": [
      "+--------+------+\n",
      "|is_fraud| count|\n",
      "+--------+------+\n",
      "|       1|  2145|\n",
      "|       0|553574|\n",
      "+--------+------+\n",
      "\n"
     ]
    }
   ],
   "source": [
    "test_df.groupBy(\"is_fraud\").count().show()"
   ]
  },
  {
   "cell_type": "markdown",
   "id": "18fd88a9-d53a-43fc-a126-d913df05da40",
   "metadata": {},
   "source": [
    "### So this data is imbalanced."
   ]
  },
  {
   "cell_type": "code",
   "execution_count": 46,
   "id": "0d6df8f8-c3ae-4f41-bd48-595052430e5e",
   "metadata": {},
   "outputs": [
    {
     "name": "stdout",
     "output_type": "stream",
     "text": [
      "Fraud Count: 6006, Non-Fraud Count: 1042569\n",
      "+--------+-----+\n",
      "|is_fraud|count|\n",
      "+--------+-----+\n",
      "|       1| 6006|\n",
      "|       0| 6035|\n",
      "+--------+-----+\n",
      "\n"
     ]
    }
   ],
   "source": [
    "fraud_count = train_df.filter(col(\"is_fraud\") == 1).count()\n",
    "non_fraud_count = train_df.filter(col(\"is_fraud\") == 0).count()\n",
    "\n",
    "print(f\"Fraud Count: {fraud_count}, Non-Fraud Count: {non_fraud_count}\")\n",
    "\n",
    "fraud_df = train_df.filter(col(\"is_fraud\") == 1)\n",
    "non_fraud_df = train_df.filter(col(\"is_fraud\") == 0).sample(withReplacement=False, fraction=fraud_count / non_fraud_count, seed=42)\n",
    "\n",
    "balanced_train_df = fraud_df.union(non_fraud_df)\n",
    "\n",
    "balanced_train_df.groupBy(\"is_fraud\").count().show()"
   ]
  },
  {
   "cell_type": "code",
   "execution_count": 47,
   "id": "be187a97-0f0f-4d78-8bb4-061faf9659d0",
   "metadata": {},
   "outputs": [
    {
     "name": "stdout",
     "output_type": "stream",
     "text": [
      "+-------+-------+---------+--------+----------+---------+-----------+--------+\n",
      "|    amt|    lat|     long|city_pop| unix_time|merch_lat| merch_long|is_fraud|\n",
      "+-------+-------+---------+--------+----------+---------+-----------+--------+\n",
      "| 281.06|35.9946| -81.7266|     885|1325466397|36.430124| -81.179483|       1|\n",
      "|  11.52|  29.44|  -98.459| 1595797|1325468849|29.819364| -99.142791|       1|\n",
      "| 276.31|  29.44|  -98.459| 1595797|1325473523|29.273085|  -98.83636|       1|\n",
      "|   7.03|35.9946| -81.7266|     885|1325475483|35.909292|  -82.09101|       1|\n",
      "| 275.73|  29.44|  -98.459| 1595797|1325476547|29.786426|  -98.68341|       1|\n",
      "|  844.8|35.9946| -81.7266|     885|1325511488|35.987802| -81.254332|       1|\n",
      "| 843.91|35.9946| -81.7266|     885|1325548328|35.985612| -81.383306|       1|\n",
      "|  10.76|  29.44|  -98.459| 1595797|1325552727|28.856712| -97.794207|       1|\n",
      "| 332.35|  29.44|  -98.459| 1595797|1325554552|29.320662| -97.937219|       1|\n",
      "| 315.34|  29.44|  -98.459| 1595797|1325560656|28.953283| -97.806528|       1|\n",
      "| 337.05|40.3359| -79.6607|    1472|1325609693|41.174382| -79.809888|       1|\n",
      "| 711.66|40.3359| -79.6607|    1472|1325614021|41.207335| -78.840933|       1|\n",
      "|  707.5|40.3359| -79.6607|    1472|1325628540|40.601968| -78.768636|       1|\n",
      "| 942.62|35.9946| -81.7266|     885|1325629275| 35.76589| -81.951839|       1|\n",
      "|    4.5|40.3359| -79.6607|    1472|1325631524|39.492341| -78.859114|       1|\n",
      "| 821.96|35.9946| -81.7266|     885|1325632191|35.772593| -81.593183|       1|\n",
      "|1092.68|35.9946| -81.7266|     885|1325633397|36.981465| -80.767836|       1|\n",
      "|1254.27|35.9946| -81.7266|     885|1325634096|36.105024| -80.963186|       1|\n",
      "| 274.09|  29.44|  -98.459| 1595797|1325634282|29.789989| -97.996197|       1|\n",
      "|  14.37|64.7556|-165.6723|     145|1325638683|65.654142|-164.722603|       1|\n",
      "+-------+-------+---------+--------+----------+---------+-----------+--------+\n",
      "only showing top 20 rows\n",
      "\n"
     ]
    }
   ],
   "source": [
    "balanced_train_df.show()"
   ]
  },
  {
   "cell_type": "markdown",
   "id": "dc4a2c4c-ce31-424c-ba35-100481f106e9",
   "metadata": {},
   "source": [
    "# Model"
   ]
  },
  {
   "cell_type": "code",
   "execution_count": 48,
   "id": "ec73b058-c2bd-49a0-8a43-ae76a71394a4",
   "metadata": {},
   "outputs": [],
   "source": [
    "feature_cols = [\"amt\", \"lat\", \"long\", \"city_pop\", \"unix_time\", \"merch_lat\", \"merch_long\"]\n",
    "\n",
    "assembler = VectorAssembler(inputCols=feature_cols, outputCol=\"features\")\n",
    "\n",
    "rf = RandomForestClassifier(labelCol=\"is_fraud\", featuresCol=\"features\", numTrees=100)"
   ]
  },
  {
   "cell_type": "code",
   "execution_count": 49,
   "id": "fd25ce02-cba3-4305-b8d6-b3fa105d0e6d",
   "metadata": {},
   "outputs": [],
   "source": [
    "pipeline = Pipeline(stages=[assembler, rf])"
   ]
  },
  {
   "cell_type": "code",
   "execution_count": 50,
   "id": "be0db1d0-6607-479e-a2c7-8511f1f65c8b",
   "metadata": {},
   "outputs": [],
   "source": [
    "model = pipeline.fit(balanced_train_df)\n",
    "\n",
    "predictions = model.transform(test_df)"
   ]
  },
  {
   "cell_type": "code",
   "execution_count": 51,
   "id": "1150cda8-379c-42a4-8800-fdac44add42c",
   "metadata": {},
   "outputs": [
    {
     "name": "stdout",
     "output_type": "stream",
     "text": [
      "Test Accuracy: 0.9751\n",
      "+--------+----------+-----------------------------------------------------------------------------+\n",
      "|is_fraud|prediction|features                                                                     |\n",
      "+--------+----------+-----------------------------------------------------------------------------+\n",
      "|0       |0.0       |[2.86,33.9659,-80.9355,333497.0,1.371816865E9,33.986391,-81.200714]          |\n",
      "|0       |0.0       |[29.84,40.3207,-110.436,302.0,1.371816873E9,39.450497999999996,-109.960431]  |\n",
      "|0       |0.0       |[41.28,40.6729,-73.5365,34496.0,1.371816893E9,40.49581,-74.196111]           |\n",
      "|0       |0.0       |[60.05,28.5697,-80.8191,54767.0,1.371816915E9,28.812397999999998,-80.883061] |\n",
      "|0       |0.0       |[3.19,44.2529,-85.01700000000001,1126.0,1.371816917E9,44.959148,-85.884734]  |\n",
      "|0       |0.0       |[19.55,42.1939,-76.7361,520.0,1.371816937E9,41.747157,-77.584197]            |\n",
      "|0       |0.0       |[133.93,40.507,-123.9743,1139.0,1.371816944E9,41.499458000000004,-124.888729]|\n",
      "|0       |0.0       |[10.37,43.7557,-97.5936,343.0,1.37181695E9,44.495498,-97.728453]             |\n",
      "|0       |0.0       |[4.37,41.0001,-78.2357,3688.0,1.37181697E9,41.546067,-78.120238]             |\n",
      "|0       |0.0       |[66.54,31.6591,-96.8094,263.0,1.371816971E9,31.782919,-96.366185]            |\n",
      "+--------+----------+-----------------------------------------------------------------------------+\n",
      "only showing top 10 rows\n",
      "\n"
     ]
    }
   ],
   "source": [
    "evaluator = MulticlassClassificationEvaluator(labelCol=\"is_fraud\", predictionCol=\"prediction\", metricName=\"accuracy\")\n",
    "accuracy = evaluator.evaluate(predictions)\n",
    "print(f\"Test Accuracy: {accuracy:.4f}\")\n",
    "\n",
    "predictions.select(\"is_fraud\", \"prediction\", \"features\").show(10, truncate=False)"
   ]
  },
  {
   "cell_type": "code",
   "execution_count": 52,
   "id": "1f151080-ad71-4964-83c1-33d9ca13da04",
   "metadata": {},
   "outputs": [
    {
     "name": "stdout",
     "output_type": "stream",
     "text": [
      "+--------+----------+------+\n",
      "|is_fraud|prediction| count|\n",
      "+--------+----------+------+\n",
      "|       0|       0.0|540332|\n",
      "|       0|       1.0| 13242|\n",
      "|       1|       0.0|   577|\n",
      "|       1|       1.0|  1568|\n",
      "+--------+----------+------+\n",
      "\n"
     ]
    }
   ],
   "source": [
    "conf_matrix = predictions.groupBy(\"is_fraud\", \"prediction\").count().orderBy(\"is_fraud\", \"prediction\")\n",
    "conf_matrix.show()"
   ]
  },
  {
   "cell_type": "code",
   "execution_count": 54,
   "id": "647cbf26-9dfd-43ef-8b61-f85861f2d2c3",
   "metadata": {},
   "outputs": [],
   "source": [
    "# Save the trained model\n",
    "model_path = \"/home/jovyan/data/random_forest_model\"\n",
    "model.write().overwrite().save(model_path)"
   ]
  },
  {
   "cell_type": "code",
   "execution_count": null,
   "id": "371dbbd9-b014-4937-bae4-572f6b99f871",
   "metadata": {},
   "outputs": [],
   "source": [
    "# to use the model again\n",
    "from pyspark.ml.classification import RandomForestClassificationModel\n",
    "\n",
    "model_path = \"/home/jovyan/data/random_forest_model\"\n",
    "rf_model_loaded = RandomForestClassificationModel.load(model_path)\n",
    "\n",
    "predictions = rf_model_loaded.transform(test_df)"
   ]
  }
 ],
 "metadata": {
  "kernelspec": {
   "display_name": "Python 3 (ipykernel)",
   "language": "python",
   "name": "python3"
  },
  "language_info": {
   "codemirror_mode": {
    "name": "ipython",
    "version": 3
   },
   "file_extension": ".py",
   "mimetype": "text/x-python",
   "name": "python",
   "nbconvert_exporter": "python",
   "pygments_lexer": "ipython3",
   "version": "3.11.6"
  }
 },
 "nbformat": 4,
 "nbformat_minor": 5
}
